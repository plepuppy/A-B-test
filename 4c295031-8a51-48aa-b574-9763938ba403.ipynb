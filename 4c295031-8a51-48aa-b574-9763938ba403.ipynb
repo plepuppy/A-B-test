{
 "cells": [
  {
   "cell_type": "markdown",
   "metadata": {},
   "source": [
    "# Приоритизация гипотез, запуск A/B-тест и анализ результатов."
   ]
  },
  {
   "cell_type": "markdown",
   "metadata": {},
   "source": [
    "Цель проекта:\n",
    "\n",
    "- На основе подготовленного списка гипотез по увеличению выручки, нужно приоритизировать гипотезы. Запуск A/B-тест и анализ результатов"
   ]
  },
  {
   "cell_type": "markdown",
   "metadata": {},
   "source": [
    "##  Приоритизация гипотез."
   ]
  },
  {
   "cell_type": "code",
   "execution_count": 1,
   "metadata": {},
   "outputs": [],
   "source": [
    "import pandas as pd\n",
    "import scipy.stats as stats\n",
    "import datetime as dt\n",
    "import numpy as np\n",
    "import matplotlib.pyplot as plt\n",
    "pd.set_option('max_colwidth', -1)"
   ]
  },
  {
   "cell_type": "code",
   "execution_count": 2,
   "metadata": {},
   "outputs": [
    {
     "data": {
      "text/plain": [
       "array(['Добавить два новых канала привлечения трафика, что позволит привлекать на 30% больше пользователей',\n",
       "       'Запустить собственную службу доставки, что сократит срок доставки заказов',\n",
       "       'Добавить блоки рекомендаций товаров на сайт интернет магазина, чтобы повысить конверсию и средний чек заказа',\n",
       "       'Изменить структура категорий, что увеличит конверсию, т.к. пользователи быстрее найдут нужный товар',\n",
       "       'Изменить цвет фона главной страницы, чтобы увеличить вовлеченность пользователей',\n",
       "       'Добавить страницу отзывов клиентов о магазине, что позволит увеличить количество заказов',\n",
       "       'Показать на главной странице баннеры с актуальными акциями и распродажами, чтобы увеличить конверсию',\n",
       "       'Добавить форму подписки на все основные страницы, чтобы собрать базу клиентов для email-рассылок',\n",
       "       'Запустить акцию, дающую скидку на товар в день рождения'],\n",
       "      dtype=object)"
      ]
     },
     "metadata": {},
     "output_type": "display_data"
    }
   ],
   "source": [
    "hypothesis = pd.read_csv('/datasets/hypothesis.csv', sep=',')\n",
    "display(hypothesis['Hypothesis'].unique())\n",
    "hypothesis.columns = hypothesis.columns.str.lower()\n"
   ]
  },
  {
   "cell_type": "markdown",
   "metadata": {},
   "source": [
    "### ICE"
   ]
  },
  {
   "cell_type": "code",
   "execution_count": 3,
   "metadata": {},
   "outputs": [
    {
     "data": {
      "text/html": [
       "<div>\n",
       "<style scoped>\n",
       "    .dataframe tbody tr th:only-of-type {\n",
       "        vertical-align: middle;\n",
       "    }\n",
       "\n",
       "    .dataframe tbody tr th {\n",
       "        vertical-align: top;\n",
       "    }\n",
       "\n",
       "    .dataframe thead th {\n",
       "        text-align: right;\n",
       "    }\n",
       "</style>\n",
       "<table border=\"1\" class=\"dataframe\">\n",
       "  <thead>\n",
       "    <tr style=\"text-align: right;\">\n",
       "      <th></th>\n",
       "      <th>hypothesis</th>\n",
       "      <th>reach</th>\n",
       "      <th>impact</th>\n",
       "      <th>confidence</th>\n",
       "      <th>efforts</th>\n",
       "      <th>ice</th>\n",
       "    </tr>\n",
       "  </thead>\n",
       "  <tbody>\n",
       "    <tr>\n",
       "      <td>8</td>\n",
       "      <td>Запустить акцию, дающую скидку на товар в день рождения</td>\n",
       "      <td>1</td>\n",
       "      <td>9</td>\n",
       "      <td>9</td>\n",
       "      <td>5</td>\n",
       "      <td>16.200000</td>\n",
       "    </tr>\n",
       "    <tr>\n",
       "      <td>0</td>\n",
       "      <td>Добавить два новых канала привлечения трафика, что позволит привлекать на 30% больше пользователей</td>\n",
       "      <td>3</td>\n",
       "      <td>10</td>\n",
       "      <td>8</td>\n",
       "      <td>6</td>\n",
       "      <td>13.333333</td>\n",
       "    </tr>\n",
       "    <tr>\n",
       "      <td>7</td>\n",
       "      <td>Добавить форму подписки на все основные страницы, чтобы собрать базу клиентов для email-рассылок</td>\n",
       "      <td>10</td>\n",
       "      <td>7</td>\n",
       "      <td>8</td>\n",
       "      <td>5</td>\n",
       "      <td>11.200000</td>\n",
       "    </tr>\n",
       "    <tr>\n",
       "      <td>6</td>\n",
       "      <td>Показать на главной странице баннеры с актуальными акциями и распродажами, чтобы увеличить конверсию</td>\n",
       "      <td>5</td>\n",
       "      <td>3</td>\n",
       "      <td>8</td>\n",
       "      <td>3</td>\n",
       "      <td>8.000000</td>\n",
       "    </tr>\n",
       "    <tr>\n",
       "      <td>2</td>\n",
       "      <td>Добавить блоки рекомендаций товаров на сайт интернет магазина, чтобы повысить конверсию и средний чек заказа</td>\n",
       "      <td>8</td>\n",
       "      <td>3</td>\n",
       "      <td>7</td>\n",
       "      <td>3</td>\n",
       "      <td>7.000000</td>\n",
       "    </tr>\n",
       "    <tr>\n",
       "      <td>1</td>\n",
       "      <td>Запустить собственную службу доставки, что сократит срок доставки заказов</td>\n",
       "      <td>2</td>\n",
       "      <td>5</td>\n",
       "      <td>4</td>\n",
       "      <td>10</td>\n",
       "      <td>2.000000</td>\n",
       "    </tr>\n",
       "    <tr>\n",
       "      <td>5</td>\n",
       "      <td>Добавить страницу отзывов клиентов о магазине, что позволит увеличить количество заказов</td>\n",
       "      <td>3</td>\n",
       "      <td>2</td>\n",
       "      <td>2</td>\n",
       "      <td>3</td>\n",
       "      <td>1.333333</td>\n",
       "    </tr>\n",
       "    <tr>\n",
       "      <td>3</td>\n",
       "      <td>Изменить структура категорий, что увеличит конверсию, т.к. пользователи быстрее найдут нужный товар</td>\n",
       "      <td>8</td>\n",
       "      <td>3</td>\n",
       "      <td>3</td>\n",
       "      <td>8</td>\n",
       "      <td>1.125000</td>\n",
       "    </tr>\n",
       "    <tr>\n",
       "      <td>4</td>\n",
       "      <td>Изменить цвет фона главной страницы, чтобы увеличить вовлеченность пользователей</td>\n",
       "      <td>3</td>\n",
       "      <td>1</td>\n",
       "      <td>1</td>\n",
       "      <td>1</td>\n",
       "      <td>1.000000</td>\n",
       "    </tr>\n",
       "  </tbody>\n",
       "</table>\n",
       "</div>"
      ],
      "text/plain": [
       "                                                                                                     hypothesis  \\\n",
       "8  Запустить акцию, дающую скидку на товар в день рождения                                                        \n",
       "0  Добавить два новых канала привлечения трафика, что позволит привлекать на 30% больше пользователей             \n",
       "7  Добавить форму подписки на все основные страницы, чтобы собрать базу клиентов для email-рассылок               \n",
       "6  Показать на главной странице баннеры с актуальными акциями и распродажами, чтобы увеличить конверсию           \n",
       "2  Добавить блоки рекомендаций товаров на сайт интернет магазина, чтобы повысить конверсию и средний чек заказа   \n",
       "1  Запустить собственную службу доставки, что сократит срок доставки заказов                                      \n",
       "5  Добавить страницу отзывов клиентов о магазине, что позволит увеличить количество заказов                       \n",
       "3  Изменить структура категорий, что увеличит конверсию, т.к. пользователи быстрее найдут нужный товар            \n",
       "4  Изменить цвет фона главной страницы, чтобы увеличить вовлеченность пользователей                               \n",
       "\n",
       "   reach  impact  confidence  efforts        ice  \n",
       "8  1      9       9           5        16.200000  \n",
       "0  3      10      8           6        13.333333  \n",
       "7  10     7       8           5        11.200000  \n",
       "6  5      3       8           3        8.000000   \n",
       "2  8      3       7           3        7.000000   \n",
       "1  2      5       4           10       2.000000   \n",
       "5  3      2       2           3        1.333333   \n",
       "3  8      3       3           8        1.125000   \n",
       "4  3      1       1           1        1.000000   "
      ]
     },
     "metadata": {},
     "output_type": "display_data"
    }
   ],
   "source": [
    "hypothesis['ice'] = (hypothesis['impact'] * hypothesis['confidence']) / hypothesis['efforts']\n",
    "hypothesis = hypothesis.sort_values(by='ice', ascending = False)\n",
    "np.round(hypothesis['ice'], decimals=2)\n",
    "display(hypothesis)"
   ]
  },
  {
   "cell_type": "markdown",
   "metadata": {},
   "source": [
    "### RICE"
   ]
  },
  {
   "cell_type": "code",
   "execution_count": 4,
   "metadata": {},
   "outputs": [
    {
     "data": {
      "text/html": [
       "<div>\n",
       "<style scoped>\n",
       "    .dataframe tbody tr th:only-of-type {\n",
       "        vertical-align: middle;\n",
       "    }\n",
       "\n",
       "    .dataframe tbody tr th {\n",
       "        vertical-align: top;\n",
       "    }\n",
       "\n",
       "    .dataframe thead th {\n",
       "        text-align: right;\n",
       "    }\n",
       "</style>\n",
       "<table border=\"1\" class=\"dataframe\">\n",
       "  <thead>\n",
       "    <tr style=\"text-align: right;\">\n",
       "      <th></th>\n",
       "      <th>hypothesis</th>\n",
       "      <th>reach</th>\n",
       "      <th>impact</th>\n",
       "      <th>confidence</th>\n",
       "      <th>efforts</th>\n",
       "      <th>ice</th>\n",
       "      <th>rice</th>\n",
       "    </tr>\n",
       "  </thead>\n",
       "  <tbody>\n",
       "    <tr>\n",
       "      <td>7</td>\n",
       "      <td>Добавить форму подписки на все основные страницы, чтобы собрать базу клиентов для email-рассылок</td>\n",
       "      <td>10</td>\n",
       "      <td>7</td>\n",
       "      <td>8</td>\n",
       "      <td>5</td>\n",
       "      <td>11.200000</td>\n",
       "      <td>112.0</td>\n",
       "    </tr>\n",
       "    <tr>\n",
       "      <td>2</td>\n",
       "      <td>Добавить блоки рекомендаций товаров на сайт интернет магазина, чтобы повысить конверсию и средний чек заказа</td>\n",
       "      <td>8</td>\n",
       "      <td>3</td>\n",
       "      <td>7</td>\n",
       "      <td>3</td>\n",
       "      <td>7.000000</td>\n",
       "      <td>56.0</td>\n",
       "    </tr>\n",
       "    <tr>\n",
       "      <td>0</td>\n",
       "      <td>Добавить два новых канала привлечения трафика, что позволит привлекать на 30% больше пользователей</td>\n",
       "      <td>3</td>\n",
       "      <td>10</td>\n",
       "      <td>8</td>\n",
       "      <td>6</td>\n",
       "      <td>13.333333</td>\n",
       "      <td>40.0</td>\n",
       "    </tr>\n",
       "    <tr>\n",
       "      <td>6</td>\n",
       "      <td>Показать на главной странице баннеры с актуальными акциями и распродажами, чтобы увеличить конверсию</td>\n",
       "      <td>5</td>\n",
       "      <td>3</td>\n",
       "      <td>8</td>\n",
       "      <td>3</td>\n",
       "      <td>8.000000</td>\n",
       "      <td>40.0</td>\n",
       "    </tr>\n",
       "    <tr>\n",
       "      <td>8</td>\n",
       "      <td>Запустить акцию, дающую скидку на товар в день рождения</td>\n",
       "      <td>1</td>\n",
       "      <td>9</td>\n",
       "      <td>9</td>\n",
       "      <td>5</td>\n",
       "      <td>16.200000</td>\n",
       "      <td>16.2</td>\n",
       "    </tr>\n",
       "    <tr>\n",
       "      <td>3</td>\n",
       "      <td>Изменить структура категорий, что увеличит конверсию, т.к. пользователи быстрее найдут нужный товар</td>\n",
       "      <td>8</td>\n",
       "      <td>3</td>\n",
       "      <td>3</td>\n",
       "      <td>8</td>\n",
       "      <td>1.125000</td>\n",
       "      <td>9.0</td>\n",
       "    </tr>\n",
       "    <tr>\n",
       "      <td>1</td>\n",
       "      <td>Запустить собственную службу доставки, что сократит срок доставки заказов</td>\n",
       "      <td>2</td>\n",
       "      <td>5</td>\n",
       "      <td>4</td>\n",
       "      <td>10</td>\n",
       "      <td>2.000000</td>\n",
       "      <td>4.0</td>\n",
       "    </tr>\n",
       "    <tr>\n",
       "      <td>5</td>\n",
       "      <td>Добавить страницу отзывов клиентов о магазине, что позволит увеличить количество заказов</td>\n",
       "      <td>3</td>\n",
       "      <td>2</td>\n",
       "      <td>2</td>\n",
       "      <td>3</td>\n",
       "      <td>1.333333</td>\n",
       "      <td>4.0</td>\n",
       "    </tr>\n",
       "    <tr>\n",
       "      <td>4</td>\n",
       "      <td>Изменить цвет фона главной страницы, чтобы увеличить вовлеченность пользователей</td>\n",
       "      <td>3</td>\n",
       "      <td>1</td>\n",
       "      <td>1</td>\n",
       "      <td>1</td>\n",
       "      <td>1.000000</td>\n",
       "      <td>3.0</td>\n",
       "    </tr>\n",
       "  </tbody>\n",
       "</table>\n",
       "</div>"
      ],
      "text/plain": [
       "                                                                                                     hypothesis  \\\n",
       "7  Добавить форму подписки на все основные страницы, чтобы собрать базу клиентов для email-рассылок               \n",
       "2  Добавить блоки рекомендаций товаров на сайт интернет магазина, чтобы повысить конверсию и средний чек заказа   \n",
       "0  Добавить два новых канала привлечения трафика, что позволит привлекать на 30% больше пользователей             \n",
       "6  Показать на главной странице баннеры с актуальными акциями и распродажами, чтобы увеличить конверсию           \n",
       "8  Запустить акцию, дающую скидку на товар в день рождения                                                        \n",
       "3  Изменить структура категорий, что увеличит конверсию, т.к. пользователи быстрее найдут нужный товар            \n",
       "1  Запустить собственную службу доставки, что сократит срок доставки заказов                                      \n",
       "5  Добавить страницу отзывов клиентов о магазине, что позволит увеличить количество заказов                       \n",
       "4  Изменить цвет фона главной страницы, чтобы увеличить вовлеченность пользователей                               \n",
       "\n",
       "   reach  impact  confidence  efforts        ice   rice  \n",
       "7  10     7       8           5        11.200000  112.0  \n",
       "2  8      3       7           3        7.000000   56.0   \n",
       "0  3      10      8           6        13.333333  40.0   \n",
       "6  5      3       8           3        8.000000   40.0   \n",
       "8  1      9       9           5        16.200000  16.2   \n",
       "3  8      3       3           8        1.125000   9.0    \n",
       "1  2      5       4           10       2.000000   4.0    \n",
       "5  3      2       2           3        1.333333   4.0    \n",
       "4  3      1       1           1        1.000000   3.0    "
      ]
     },
     "metadata": {},
     "output_type": "display_data"
    }
   ],
   "source": [
    "hypothesis['rice'] = (hypothesis['impact'] * hypothesis['confidence'] * hypothesis['reach']) / hypothesis['efforts']\n",
    "hypothesis = hypothesis.sort_values(by='rice', ascending = False)\n",
    "display(hypothesis)\n"
   ]
  },
  {
   "cell_type": "markdown",
   "metadata": {},
   "source": [
    "# Вывод"
   ]
  },
  {
   "cell_type": "markdown",
   "metadata": {},
   "source": [
    "Можно заметить, что результаты RICE значительно отличаются от ICE, думаю, это связано с влиянием еще одной переменной - reach, поэтому считаю, что RICE более \"надежная\" метрика, т.к тут мы еще учитываем и охват пользователей, т.к если наши изменения действительно повлияют на пользователя, но только на 1, значительных изменений не будет."
   ]
  },
  {
   "cell_type": "markdown",
   "metadata": {},
   "source": [
    "## Анализ A/B-теста"
   ]
  },
  {
   "cell_type": "code",
   "execution_count": 5,
   "metadata": {},
   "outputs": [
    {
     "data": {
      "text/html": [
       "<div>\n",
       "<style scoped>\n",
       "    .dataframe tbody tr th:only-of-type {\n",
       "        vertical-align: middle;\n",
       "    }\n",
       "\n",
       "    .dataframe tbody tr th {\n",
       "        vertical-align: top;\n",
       "    }\n",
       "\n",
       "    .dataframe thead th {\n",
       "        text-align: right;\n",
       "    }\n",
       "</style>\n",
       "<table border=\"1\" class=\"dataframe\">\n",
       "  <thead>\n",
       "    <tr style=\"text-align: right;\">\n",
       "      <th></th>\n",
       "      <th>transactionId</th>\n",
       "      <th>visitorId</th>\n",
       "      <th>date</th>\n",
       "      <th>revenue</th>\n",
       "      <th>group</th>\n",
       "    </tr>\n",
       "  </thead>\n",
       "  <tbody>\n",
       "    <tr>\n",
       "      <td>0</td>\n",
       "      <td>3667963787</td>\n",
       "      <td>3312258926</td>\n",
       "      <td>2019-08-15</td>\n",
       "      <td>1650</td>\n",
       "      <td>B</td>\n",
       "    </tr>\n",
       "    <tr>\n",
       "      <td>1</td>\n",
       "      <td>2804400009</td>\n",
       "      <td>3642806036</td>\n",
       "      <td>2019-08-15</td>\n",
       "      <td>730</td>\n",
       "      <td>B</td>\n",
       "    </tr>\n",
       "    <tr>\n",
       "      <td>2</td>\n",
       "      <td>2961555356</td>\n",
       "      <td>4069496402</td>\n",
       "      <td>2019-08-15</td>\n",
       "      <td>400</td>\n",
       "      <td>A</td>\n",
       "    </tr>\n",
       "    <tr>\n",
       "      <td>3</td>\n",
       "      <td>3797467345</td>\n",
       "      <td>1196621759</td>\n",
       "      <td>2019-08-15</td>\n",
       "      <td>9759</td>\n",
       "      <td>B</td>\n",
       "    </tr>\n",
       "    <tr>\n",
       "      <td>4</td>\n",
       "      <td>2282983706</td>\n",
       "      <td>2322279887</td>\n",
       "      <td>2019-08-15</td>\n",
       "      <td>2308</td>\n",
       "      <td>B</td>\n",
       "    </tr>\n",
       "  </tbody>\n",
       "</table>\n",
       "</div>"
      ],
      "text/plain": [
       "   transactionId   visitorId       date  revenue group\n",
       "0  3667963787     3312258926 2019-08-15  1650     B   \n",
       "1  2804400009     3642806036 2019-08-15  730      B   \n",
       "2  2961555356     4069496402 2019-08-15  400      A   \n",
       "3  3797467345     1196621759 2019-08-15  9759     B   \n",
       "4  2282983706     2322279887 2019-08-15  2308     B   "
      ]
     },
     "metadata": {},
     "output_type": "display_data"
    },
    {
     "data": {
      "text/html": [
       "<div>\n",
       "<style scoped>\n",
       "    .dataframe tbody tr th:only-of-type {\n",
       "        vertical-align: middle;\n",
       "    }\n",
       "\n",
       "    .dataframe tbody tr th {\n",
       "        vertical-align: top;\n",
       "    }\n",
       "\n",
       "    .dataframe thead th {\n",
       "        text-align: right;\n",
       "    }\n",
       "</style>\n",
       "<table border=\"1\" class=\"dataframe\">\n",
       "  <thead>\n",
       "    <tr style=\"text-align: right;\">\n",
       "      <th></th>\n",
       "      <th>date</th>\n",
       "      <th>group</th>\n",
       "      <th>visitors</th>\n",
       "    </tr>\n",
       "  </thead>\n",
       "  <tbody>\n",
       "    <tr>\n",
       "      <td>0</td>\n",
       "      <td>2019-08-01</td>\n",
       "      <td>A</td>\n",
       "      <td>719</td>\n",
       "    </tr>\n",
       "    <tr>\n",
       "      <td>1</td>\n",
       "      <td>2019-08-02</td>\n",
       "      <td>A</td>\n",
       "      <td>619</td>\n",
       "    </tr>\n",
       "    <tr>\n",
       "      <td>2</td>\n",
       "      <td>2019-08-03</td>\n",
       "      <td>A</td>\n",
       "      <td>507</td>\n",
       "    </tr>\n",
       "    <tr>\n",
       "      <td>3</td>\n",
       "      <td>2019-08-04</td>\n",
       "      <td>A</td>\n",
       "      <td>717</td>\n",
       "    </tr>\n",
       "    <tr>\n",
       "      <td>4</td>\n",
       "      <td>2019-08-05</td>\n",
       "      <td>A</td>\n",
       "      <td>756</td>\n",
       "    </tr>\n",
       "  </tbody>\n",
       "</table>\n",
       "</div>"
      ],
      "text/plain": [
       "        date group  visitors\n",
       "0 2019-08-01  A     719     \n",
       "1 2019-08-02  A     619     \n",
       "2 2019-08-03  A     507     \n",
       "3 2019-08-04  A     717     \n",
       "4 2019-08-05  A     756     "
      ]
     },
     "metadata": {},
     "output_type": "display_data"
    },
    {
     "data": {
      "text/html": [
       "<div>\n",
       "<style scoped>\n",
       "    .dataframe tbody tr th:only-of-type {\n",
       "        vertical-align: middle;\n",
       "    }\n",
       "\n",
       "    .dataframe tbody tr th {\n",
       "        vertical-align: top;\n",
       "    }\n",
       "\n",
       "    .dataframe thead th {\n",
       "        text-align: right;\n",
       "    }\n",
       "</style>\n",
       "<table border=\"1\" class=\"dataframe\">\n",
       "  <thead>\n",
       "    <tr style=\"text-align: right;\">\n",
       "      <th></th>\n",
       "      <th>visitorId</th>\n",
       "      <th>group</th>\n",
       "    </tr>\n",
       "  </thead>\n",
       "  <tbody>\n",
       "    <tr>\n",
       "      <td>0</td>\n",
       "      <td>5114589</td>\n",
       "      <td>1</td>\n",
       "    </tr>\n",
       "    <tr>\n",
       "      <td>1</td>\n",
       "      <td>6958315</td>\n",
       "      <td>1</td>\n",
       "    </tr>\n",
       "    <tr>\n",
       "      <td>2</td>\n",
       "      <td>8300375</td>\n",
       "      <td>2</td>\n",
       "    </tr>\n",
       "    <tr>\n",
       "      <td>3</td>\n",
       "      <td>11685486</td>\n",
       "      <td>1</td>\n",
       "    </tr>\n",
       "    <tr>\n",
       "      <td>4</td>\n",
       "      <td>39475350</td>\n",
       "      <td>1</td>\n",
       "    </tr>\n",
       "    <tr>\n",
       "      <td>...</td>\n",
       "      <td>...</td>\n",
       "      <td>...</td>\n",
       "    </tr>\n",
       "    <tr>\n",
       "      <td>1026</td>\n",
       "      <td>4266935830</td>\n",
       "      <td>2</td>\n",
       "    </tr>\n",
       "    <tr>\n",
       "      <td>1027</td>\n",
       "      <td>4278982564</td>\n",
       "      <td>1</td>\n",
       "    </tr>\n",
       "    <tr>\n",
       "      <td>1028</td>\n",
       "      <td>4279090005</td>\n",
       "      <td>1</td>\n",
       "    </tr>\n",
       "    <tr>\n",
       "      <td>1029</td>\n",
       "      <td>4281247801</td>\n",
       "      <td>1</td>\n",
       "    </tr>\n",
       "    <tr>\n",
       "      <td>1030</td>\n",
       "      <td>4283872382</td>\n",
       "      <td>1</td>\n",
       "    </tr>\n",
       "  </tbody>\n",
       "</table>\n",
       "<p>1031 rows × 2 columns</p>\n",
       "</div>"
      ],
      "text/plain": [
       "       visitorId  group\n",
       "0     5114589     1    \n",
       "1     6958315     1    \n",
       "2     8300375     2    \n",
       "3     11685486    1    \n",
       "4     39475350    1    \n",
       "...        ...   ..    \n",
       "1026  4266935830  2    \n",
       "1027  4278982564  1    \n",
       "1028  4279090005  1    \n",
       "1029  4281247801  1    \n",
       "1030  4283872382  1    \n",
       "\n",
       "[1031 rows x 2 columns]"
      ]
     },
     "metadata": {},
     "output_type": "display_data"
    }
   ],
   "source": [
    "orders = pd.read_csv('/datasets/orders.csv', sep=',')\n",
    "orders['date'] = orders['date'].map(\n",
    "    lambda x: dt.datetime.strptime(x, '%Y-%m-%d')\n",
    ")\n",
    "\n",
    "visitors = pd.read_csv(\n",
    "    '/datasets/visitors.csv', sep=','\n",
    ")\n",
    "visitors['date'] = visitors['date'].map(\n",
    "    lambda x: dt.datetime.strptime(x, '%Y-%m-%d')\n",
    ")\n",
    "display(orders.head())\n",
    "display(visitors.head())\n",
    "\n",
    "abc = orders.groupby('visitorId').agg({'group': 'nunique'}).reset_index()\n",
    "display(abc)"
   ]
  },
  {
   "cell_type": "code",
   "execution_count": 27,
   "metadata": {},
   "outputs": [
    {
     "data": {
      "text/plain": [
       "58"
      ]
     },
     "execution_count": 27,
     "metadata": {},
     "output_type": "execute_result"
    }
   ],
   "source": [
    "len(abc[abc['group'] == 2])"
   ]
  },
  {
   "cell_type": "markdown",
   "metadata": {},
   "source": [
    "# Вывод"
   ]
  },
  {
   "cell_type": "markdown",
   "metadata": {},
   "source": [
    "Прочитал файлы, перевел время, посмотрел датасеты."
   ]
  },
  {
   "cell_type": "code",
   "execution_count": 6,
   "metadata": {},
   "outputs": [],
   "source": [
    "datesGroups = orders[['date','group']].drop_duplicates() \n",
    "\n",
    "ordersAggregated = datesGroups.apply(\n",
    "    lambda x: orders[\n",
    "        np.logical_and(\n",
    "            orders['date'] <= x['date'], orders['group'] == x['group']\n",
    "        )\n",
    "    ].agg(\n",
    "        {\n",
    "            'date': 'max',\n",
    "            'group': 'max',\n",
    "            'transactionId': 'nunique',\n",
    "            'visitorId': 'nunique',\n",
    "            'revenue': 'sum',\n",
    "        }\n",
    "    ),\n",
    "    axis=1,\n",
    ").sort_values(by=['date', 'group'])\n",
    "\n",
    "visitorsAggregated = datesGroups.apply(\n",
    "    lambda x: visitors[\n",
    "        np.logical_and(\n",
    "            visitors['date'] <= x['date'], visitors['group'] == x['group']\n",
    "        )\n",
    "    ].agg({'date': 'max', 'group': 'max', 'visitors': 'sum'}),\n",
    "    axis=1,\n",
    ").sort_values(by=['date', 'group'])\n",
    "\n",
    "cumulativeData = ordersAggregated.merge(\n",
    "    visitorsAggregated, left_on=['date', 'group'], right_on=['date', 'group']\n",
    ")\n",
    "cumulativeData.columns = [\n",
    "    'date',\n",
    "    'group',\n",
    "    'orders',\n",
    "    'buyers',\n",
    "    'revenue',\n",
    "    'visitors',\n",
    "]\n",
    "\n",
    "\n",
    "\n"
   ]
  },
  {
   "cell_type": "markdown",
   "metadata": {},
   "source": [
    "#  Вывод"
   ]
  },
  {
   "cell_type": "markdown",
   "metadata": {},
   "source": [
    "Сделал датафрейм для кумулятивных метрик."
   ]
  },
  {
   "cell_type": "markdown",
   "metadata": {},
   "source": [
    "### Кумулятивная выручка по группам"
   ]
  },
  {
   "cell_type": "code",
   "execution_count": 7,
   "metadata": {},
   "outputs": [
    {
     "data": {
      "image/png": "[encoded data removed]",
      "text/plain": [
       "<Figure size 1080x360 with 1 Axes>"
      ]
     },
     "metadata": {
      "needs_background": "light"
     },
     "output_type": "display_data"
    }
   ],
   "source": [
    "from pandas.plotting import register_matplotlib_converters\n",
    "register_matplotlib_converters()\n",
    "\n",
    "cumulativeRevenueA = cumulativeData[cumulativeData['group']=='A'][['date','revenue', 'orders']]\n",
    "cumulativeRevenueB = cumulativeData[cumulativeData['group']=='B'][['date','revenue', 'orders']]\n",
    "plt.figure(figsize=(15, 5))\n",
    "plt.plot(cumulativeRevenueA['date'], cumulativeRevenueA['revenue'], label='A')\n",
    "plt.plot(cumulativeRevenueB['date'], cumulativeRevenueB['revenue'], label='B')\n",
    "plt.xlabel('Дата')\n",
    "plt.ylabel('Выручка')\n",
    "plt.title('Кумулятивная выручка по группам')\n",
    "plt.legend(); "
   ]
  },
  {
   "cell_type": "markdown",
   "metadata": {},
   "source": [
    "# Вывод"
   ]
  },
  {
   "cell_type": "markdown",
   "metadata": {},
   "source": [
    "Выручка по группам растет в течение всего теста.\n",
    "Однако график выручки группы В резко растет один раз. Это может сигнализировать о всплесках числа заказов, либо о появлении очень дорогих заказов в выборке."
   ]
  },
  {
   "cell_type": "markdown",
   "metadata": {},
   "source": [
    "### Кумулятивный средний чек по группам"
   ]
  },
  {
   "cell_type": "code",
   "execution_count": 8,
   "metadata": {},
   "outputs": [
    {
     "data": {
      "image/png": "[encoded data removed]",
      "text/plain": [
       "<Figure size 1080x360 with 1 Axes>"
      ]
     },
     "metadata": {
      "needs_background": "light"
     },
     "output_type": "display_data"
    }
   ],
   "source": [
    "plt.figure(figsize=(15, 5))\n",
    "plt.plot(cumulativeRevenueA['date'], cumulativeRevenueA['revenue']/cumulativeRevenueA['orders'], label='A')\n",
    "plt.plot(cumulativeRevenueB['date'], cumulativeRevenueB['revenue']/cumulativeRevenueB['orders'], label='B')\n",
    "plt.xlabel('Дата')\n",
    "plt.ylabel('Средний чек')\n",
    "plt.title('Кумулятивный средний чек по группам')\n",
    "plt.legend(); "
   ]
  },
  {
   "cell_type": "markdown",
   "metadata": {},
   "source": [
    "# Вывод"
   ]
  },
  {
   "cell_type": "markdown",
   "metadata": {},
   "source": [
    "В целом средний чек  по группам растет в течение всего теста, средний чек группы А в начале теста падал, но затем планомерно рос. Чек группы Б постоянно рост, но наблюдается резкий скачок, а потом медленное сниженее, что логично, после резкого всплеска.  Причина может быть та же самая - число заказов, либо  появление очень дорогих заказов в выборке"
   ]
  },
  {
   "cell_type": "markdown",
   "metadata": {},
   "source": [
    "### График относительного изменения кумулятивного среднего чека группы B к группе A."
   ]
  },
  {
   "cell_type": "code",
   "execution_count": 9,
   "metadata": {},
   "outputs": [
    {
     "data": {
      "image/png": "[encoded data removed]",
      "text/plain": [
       "<Figure size 1080x360 with 1 Axes>"
      ]
     },
     "metadata": {
      "needs_background": "light"
     },
     "output_type": "display_data"
    }
   ],
   "source": [
    "mergedCumulativeRevenue = cumulativeRevenueA.merge(\n",
    "    cumulativeRevenueB, left_on='date', right_on='date', how='left', suffixes=['A', 'B']\n",
    ")\n",
    "plt.figure(figsize=(15, 5))\n",
    "plt.plot(mergedCumulativeRevenue['date'], (mergedCumulativeRevenue['revenueB']/mergedCumulativeRevenue['ordersB'])/(mergedCumulativeRevenue['revenueA']/mergedCumulativeRevenue['ordersA'])-1)\n",
    "plt.axhline(y=0, color='black', linestyle='--') \n",
    "plt.xlabel('Дата')\n",
    "plt.ylabel('Изменения кумулятивного среднего чека')\n",
    "plt.title('Относительного изменения кумулятивного среднего чека');"
   ]
  },
  {
   "cell_type": "markdown",
   "metadata": {},
   "source": [
    "# Вывод"
   ]
  },
  {
   "cell_type": "markdown",
   "metadata": {},
   "source": [
    "Можно сказать, что средний чек группы Б был больше группы А на протяжении всего теста, но есть резкий всплеск, в котором надо разобраться."
   ]
  },
  {
   "cell_type": "markdown",
   "metadata": {},
   "source": [
    "###  График кумулятивной конверсии по группам"
   ]
  },
  {
   "cell_type": "code",
   "execution_count": 10,
   "metadata": {},
   "outputs": [
    {
     "data": {
      "image/png": "[encoded data removed]",
      "text/plain": [
       "<Figure size 1080x360 with 1 Axes>"
      ]
     },
     "metadata": {
      "needs_background": "light"
     },
     "output_type": "display_data"
    }
   ],
   "source": [
    "cumulativeData['conversion'] = cumulativeData['orders']/cumulativeData['visitors']\n",
    "cumulativeDataA = cumulativeData[cumulativeData['group']=='A']\n",
    "cumulativeDataB = cumulativeData[cumulativeData['group']=='B']\n",
    "plt.figure(figsize=(15, 5))\n",
    "plt.plot(cumulativeDataA['date'], cumulativeDataA['conversion'], label='A')\n",
    "plt.plot(cumulativeDataB['date'], cumulativeDataB['conversion'], label='B')\n",
    "plt.xlabel('Дата')\n",
    "plt.ylabel('Конверсия')\n",
    "plt.title('Кумулятивная конверсия по группам')\n",
    "plt.legend();\n"
   ]
  },
  {
   "cell_type": "markdown",
   "metadata": {},
   "source": [
    "# Вывод"
   ]
  },
  {
   "cell_type": "markdown",
   "metadata": {},
   "source": [
    "Заметно, что конверсия группы А сразу начинает падать, в то время как группы Б повысилась и держиться на 1 уровне, немного снижаясь"
   ]
  },
  {
   "cell_type": "markdown",
   "metadata": {},
   "source": [
    "### График относительного изменения кумулятивной конверсии группы B к группе A"
   ]
  },
  {
   "cell_type": "code",
   "execution_count": 11,
   "metadata": {},
   "outputs": [
    {
     "data": {
      "image/png": "[encoded data removed]",
      "text/plain": [
       "<Figure size 1080x360 with 1 Axes>"
      ]
     },
     "metadata": {
      "needs_background": "light"
     },
     "output_type": "display_data"
    }
   ],
   "source": [
    "mergedCumulativeConversions = cumulativeDataA[['date','conversion']].merge(\n",
    "    cumulativeDataB[['date','conversion']], left_on='date', right_on='date', how='left', suffixes=['A', 'B']\n",
    ")\n",
    "plt.figure(figsize=(15, 5))\n",
    "plt.plot(mergedCumulativeConversions['date'], mergedCumulativeConversions['conversionB']/mergedCumulativeConversions['conversionA']-1, label=\"Относительный прирост конверсии группы B относительно группы A\")\n",
    "plt.legend()\n",
    "plt.axhline(y=0, color='black', linestyle='--')\n",
    "plt.axhline(y=-0.1, color='grey', linestyle='--')\n",
    "plt.xlabel('Дата')\n",
    "plt.ylabel('Изменения кумулятивной конверсии ')\n",
    "plt.title('Относительное изменение кумулятивной конверсии');"
   ]
  },
  {
   "cell_type": "markdown",
   "metadata": {},
   "source": [
    "# Вывод"
   ]
  },
  {
   "cell_type": "markdown",
   "metadata": {},
   "source": [
    "Конверсия группы Б значительно превышает конверсию группы А"
   ]
  },
  {
   "cell_type": "markdown",
   "metadata": {},
   "source": [
    "### График количества заказов по пользователям "
   ]
  },
  {
   "cell_type": "code",
   "execution_count": 12,
   "metadata": {},
   "outputs": [
    {
     "data": {
      "image/png": "[encoded data removed]",
      "text/plain": [
       "<Figure size 432x288 with 1 Axes>"
      ]
     },
     "metadata": {
      "needs_background": "light"
     },
     "output_type": "display_data"
    }
   ],
   "source": [
    "ordersByUsers = (\n",
    "    orders.groupby('visitorId', as_index=False)\n",
    "    .agg({'transactionId': pd.Series.nunique})\n",
    ")\n",
    "\n",
    "ordersByUsers.columns = ['visitorId', 'transactionId']\n",
    "x_values = pd.Series(range(0,len(ordersByUsers)))\n",
    "\n",
    "plt.scatter(x_values, ordersByUsers['transactionId']) \n",
    "plt.xlabel('Кол-во пользователей')\n",
    "plt.ylabel('Кол-во покупок')\n",
    "plt.title('Количества заказов по пользователям');"
   ]
  },
  {
   "cell_type": "markdown",
   "metadata": {},
   "source": [
    "#  Вывод"
   ]
  },
  {
   "cell_type": "markdown",
   "metadata": {},
   "source": [
    "Есть аномалии, но надо определить границу аномалий"
   ]
  },
  {
   "cell_type": "markdown",
   "metadata": {},
   "source": [
    "### 95-й и 99-й перцентили количества заказов на пользователя"
   ]
  },
  {
   "cell_type": "code",
   "execution_count": 13,
   "metadata": {},
   "outputs": [
    {
     "name": "stdout",
     "output_type": "stream",
     "text": [
      "[1. 2. 4.]\n"
     ]
    }
   ],
   "source": [
    "print(np.percentile(ordersByUsers['transactionId'], [90, 95, 99])) "
   ]
  },
  {
   "cell_type": "markdown",
   "metadata": {},
   "source": [
    "2 - нижняя граница все что выше отсееваем т.к аномалии "
   ]
  },
  {
   "cell_type": "markdown",
   "metadata": {},
   "source": [
    "### Точечный график стоимостей заказов "
   ]
  },
  {
   "cell_type": "code",
   "execution_count": 14,
   "metadata": {},
   "outputs": [
    {
     "data": {
      "image/png": "[encoded data removed]",
      "text/plain": [
       "<Figure size 432x288 with 1 Axes>"
      ]
     },
     "metadata": {
      "needs_background": "light"
     },
     "output_type": "display_data"
    }
   ],
   "source": [
    "x_values = pd.Series(range(0,len(orders['revenue'])))\n",
    "plt.scatter(x_values, orders['revenue']) \n",
    "plt.xlabel('Кол-во покупок')\n",
    "plt.ylabel('Цена')\n",
    "plt.title('График стоимостей заказов');"
   ]
  },
  {
   "cell_type": "markdown",
   "metadata": {},
   "source": [
    "###  95-й и 99-й перцентили стоимости заказов"
   ]
  },
  {
   "cell_type": "code",
   "execution_count": 15,
   "metadata": {},
   "outputs": [
    {
     "name": "stdout",
     "output_type": "stream",
     "text": [
      "[18168.  28000.  58233.2]\n"
     ]
    }
   ],
   "source": [
    "print(np.percentile(orders['revenue'], [90, 95, 99]))"
   ]
  },
  {
   "cell_type": "markdown",
   "metadata": {},
   "source": [
    "#  Вывод"
   ]
  },
  {
   "cell_type": "markdown",
   "metadata": {},
   "source": [
    "Все, что выше 28000 - считаем аномалиями, такая аномалия только одна, заказ на сумму более 120 тысяч, видимо это и есть объяснение резкого скачка в графиках."
   ]
  },
  {
   "cell_type": "markdown",
   "metadata": {},
   "source": [
    "### Статистическая значимость различий в конверсии между группами по «сырым» данным"
   ]
  },
  {
   "cell_type": "code",
   "execution_count": 16,
   "metadata": {},
   "outputs": [
    {
     "name": "stdout",
     "output_type": "stream",
     "text": [
      "0.008\n",
      "0.138\n"
     ]
    }
   ],
   "source": [
    "orders = pd.read_csv('/datasets/orders.csv', sep=',')\n",
    "orders['date'] = orders['date'].map(\n",
    "    lambda x: dt.datetime.strptime(x, '%Y-%m-%d')\n",
    ")\n",
    "\n",
    "visitors = pd.read_csv(\n",
    "    '/datasets/visitors.csv', sep=','\n",
    ")\n",
    "visitors['date'] = visitors['date'].map(\n",
    "    lambda x: dt.datetime.strptime(x, '%Y-%m-%d')\n",
    ")\n",
    "\n",
    "visitorsADaily = visitors[visitors['group'] == 'A'][['date', 'visitors']]\n",
    "visitorsADaily.columns = ['date', 'visitorsPerDateA']\n",
    "\n",
    "visitorsACummulative = visitorsADaily.apply(\n",
    "    lambda x: visitorsADaily[visitorsADaily['date'] <= x['date']].agg(\n",
    "        {'date': 'max', 'visitorsPerDateA': 'sum'}\n",
    "    ),\n",
    "    axis=1,\n",
    ")\n",
    "visitorsACummulative.columns = ['date', 'visitorsCummulativeA']\n",
    "\n",
    "visitorsBDaily = visitors[visitors['group'] == 'B'][['date', 'visitors']]\n",
    "visitorsBDaily.columns = ['date', 'visitorsPerDateB']\n",
    "\n",
    "visitorsBCummulative = visitorsBDaily.apply(\n",
    "    lambda x: visitorsBDaily[visitorsBDaily['date'] <= x['date']].agg(\n",
    "        {'date': 'max', 'visitorsPerDateB': 'sum'}\n",
    "    ),\n",
    "    axis=1,\n",
    ")\n",
    "visitorsBCummulative.columns = ['date', 'visitorsCummulativeB']\n",
    "\n",
    "ordersADaily = (\n",
    "    orders[orders['group'] == 'A'][['date', 'transactionId', 'visitorId', 'revenue']]\n",
    "    .groupby('date', as_index=False)\n",
    "    .agg({'transactionId': pd.Series.nunique, 'revenue': 'sum'})\n",
    ")\n",
    "ordersADaily.columns = ['date', 'ordersPerDateA', 'revenuePerDateA']\n",
    "\n",
    "ordersACummulative = ordersADaily.apply(\n",
    "    lambda x: ordersADaily[ordersADaily['date'] <= x['date']].agg(\n",
    "        {'date': 'max', 'ordersPerDateA': 'sum', 'revenuePerDateA': 'sum'}\n",
    "    ),\n",
    "    axis=1,\n",
    ").sort_values(by=['date'])\n",
    "ordersACummulative.columns = [\n",
    "    'date',\n",
    "    'ordersCummulativeA',\n",
    "    'revenueCummulativeA',\n",
    "]\n",
    "\n",
    "ordersBDaily = (\n",
    "    orders[orders['group'] == 'B'][['date', 'transactionId', 'visitorId', 'revenue']]\n",
    "    .groupby('date', as_index=False)\n",
    "    .agg({'transactionId': pd.Series.nunique, 'revenue': 'sum'})\n",
    ")\n",
    "ordersBDaily.columns = ['date', 'ordersPerDateB', 'revenuePerDateB']\n",
    "\n",
    "ordersBCummulative = ordersBDaily.apply(\n",
    "    lambda x: ordersBDaily[ordersBDaily['date'] <= x['date']].agg(\n",
    "        {'date': 'max', 'ordersPerDateB': 'sum', 'revenuePerDateB': 'sum'}\n",
    "    ),\n",
    "    axis=1,\n",
    ").sort_values(by=['date'])\n",
    "ordersBCummulative.columns = [\n",
    "    'date',\n",
    "    'ordersCummulativeB',\n",
    "    'revenueCummulativeB',\n",
    "]\n",
    "\n",
    "data = (\n",
    "    ordersADaily.merge(\n",
    "        ordersBDaily, left_on='date', right_on='date', how='left'\n",
    "    )\n",
    "    .merge(ordersACummulative, left_on='date', right_on='date', how='left')\n",
    "    .merge(ordersBCummulative, left_on='date', right_on='date', how='left')\n",
    "    .merge(visitorsADaily, left_on='date', right_on='date', how='left')\n",
    "    .merge(visitorsBDaily, left_on='date', right_on='date', how='left')\n",
    "    .merge(visitorsACummulative, left_on='date', right_on='date', how='left')\n",
    "    .merge(visitorsBCummulative, left_on='date', right_on='date', how='left')\n",
    ")\n",
    "\n",
    "ordersByUsersA = (\n",
    "    orders[orders['group'] == 'A']\n",
    "    .groupby('visitorId', as_index=False)\n",
    "    .agg({'transactionId': pd.Series.nunique})\n",
    ")\n",
    "ordersByUsersA.columns = ['visitorId', 'transactionId']\n",
    "\n",
    "ordersByUsersB = (\n",
    "    orders[orders['group'] == 'B']\n",
    "    .groupby('visitorId', as_index=False)\n",
    "    .agg({'transactionId': pd.Series.nunique})\n",
    ")\n",
    "ordersByUsersB.columns = ['visitorId', 'transactionId']\n",
    "\n",
    "sampleA = pd.concat(\n",
    "    [\n",
    "        ordersByUsersA['transactionId'],\n",
    "        pd.Series(\n",
    "            0,\n",
    "            index=np.arange(\n",
    "                data['visitorsPerDateA'].sum() - len(ordersByUsersA['transactionId'])\n",
    "            ),\n",
    "            name='transactionId',\n",
    "        ),\n",
    "    ],\n",
    "    axis=0,\n",
    ")\n",
    "\n",
    "sampleB = pd.concat(\n",
    "    [\n",
    "        ordersByUsersB['transactionId'],\n",
    "        pd.Series(\n",
    "            0,\n",
    "            index=np.arange(\n",
    "                data['visitorsPerDateB'].sum() - len(ordersByUsersB['transactionId'])\n",
    "            ),\n",
    "            name='transactionId',\n",
    "        ),\n",
    "    ],\n",
    "    axis=0,\n",
    ")\n",
    "\n",
    "print(\"{0:.3f}\".format(stats.mannwhitneyu(sampleA, sampleB)[1]))\n",
    "\n",
    "print(\"{0:.3f}\".format(sampleB.mean() / sampleA.mean() - 1))"
   ]
  },
  {
   "cell_type": "code",
   "execution_count": 17,
   "metadata": {},
   "outputs": [],
   "source": [
    "orders = pd.read_csv('/datasets/orders.csv', sep=',')\n",
    "orders['date'] = orders['date'].map(\n",
    "    lambda x: dt.datetime.strptime(x, '%Y-%m-%d')\n",
    ")\n",
    "\n",
    "visitors = pd.read_csv(\n",
    "    '/datasets/visitors.csv', sep=','\n",
    ")\n",
    "visitors['date'] = visitors['date'].map(\n",
    "    lambda x: dt.datetime.strptime(x, '%Y-%m-%d')\n",
    ")"
   ]
  },
  {
   "cell_type": "code",
   "execution_count": 18,
   "metadata": {},
   "outputs": [],
   "source": [
    "visitorsADaily = visitors[visitors['group'] == 'A'][['date', 'visitors']]\n",
    "visitorsADaily.columns = ['date', 'visitorsPerDateA']\n",
    "\n",
    "visitorsACummulative = visitorsADaily.apply(\n",
    "    lambda x: visitorsADaily[visitorsADaily['date'] <= x['date']].agg(\n",
    "        {'date': 'max', 'visitorsPerDateA': 'sum'}\n",
    "    ),\n",
    "    axis=1,\n",
    ")\n",
    "visitorsACummulative.columns = ['date', 'visitorsCummulativeA']\n",
    "\n",
    "visitorsBDaily = visitors[visitors['group'] == 'B'][['date', 'visitors']]\n",
    "visitorsBDaily.columns = ['date', 'visitorsPerDateB']\n",
    "\n",
    "visitorsBCummulative = visitorsBDaily.apply(\n",
    "    lambda x: visitorsBDaily[visitorsBDaily['date'] <= x['date']].agg(\n",
    "        {'date': 'max', 'visitorsPerDateB': 'sum'}\n",
    "    ),\n",
    "    axis=1,\n",
    ")\n",
    "visitorsBCummulative.columns = ['date', 'visitorsCummulativeB']"
   ]
  },
  {
   "cell_type": "code",
   "execution_count": 19,
   "metadata": {},
   "outputs": [],
   "source": [
    "ordersADaily = (\n",
    "    orders[orders['group'] == 'A'][['date', 'transactionId', 'visitorId', 'revenue']]\n",
    "    .groupby('date', as_index=False)\n",
    "    .agg({'transactionId': pd.Series.nunique, 'revenue': 'sum'})\n",
    ")\n",
    "ordersADaily.columns = ['date', 'ordersPerDateA', 'revenuePerDateA']\n",
    "\n",
    "ordersACummulative = ordersADaily.apply(\n",
    "    lambda x: ordersADaily[ordersADaily['date'] <= x['date']].agg(\n",
    "        {'date': 'max', 'ordersPerDateA': 'sum', 'revenuePerDateA': 'sum'}\n",
    "    ),\n",
    "    axis=1,\n",
    ").sort_values(by=['date'])\n",
    "ordersACummulative.columns = [\n",
    "    'date',\n",
    "    'ordersCummulativeA',\n",
    "    'revenueCummulativeA',\n",
    "]\n",
    "\n",
    "ordersBDaily = (\n",
    "    orders[orders['group'] == 'B'][['date', 'transactionId', 'visitorId', 'revenue']]\n",
    "    .groupby('date', as_index=False)\n",
    "    .agg({'transactionId': pd.Series.nunique, 'revenue': 'sum'})\n",
    ")\n",
    "ordersBDaily.columns = ['date', 'ordersPerDateB', 'revenuePerDateB']\n",
    "\n",
    "ordersBCummulative = ordersBDaily.apply(\n",
    "    lambda x: ordersBDaily[ordersBDaily['date'] <= x['date']].agg(\n",
    "        {'date': 'max', 'ordersPerDateB': 'sum', 'revenuePerDateB': 'sum'}\n",
    "    ),\n",
    "    axis=1,\n",
    ").sort_values(by=['date'])\n",
    "ordersBCummulative.columns = [\n",
    "    'date',\n",
    "    'ordersCummulativeB',\n",
    "    'revenueCummulativeB',\n",
    "]"
   ]
  },
  {
   "cell_type": "code",
   "execution_count": 20,
   "metadata": {},
   "outputs": [],
   "source": [
    "data = (\n",
    "    ordersADaily.merge(\n",
    "        ordersBDaily, left_on='date', right_on='date', how='left'\n",
    "    )\n",
    "    .merge(ordersACummulative, left_on='date', right_on='date', how='left')\n",
    "    .merge(ordersBCummulative, left_on='date', right_on='date', how='left')\n",
    "    .merge(visitorsADaily, left_on='date', right_on='date', how='left')\n",
    "    .merge(visitorsBDaily, left_on='date', right_on='date', how='left')\n",
    "    .merge(visitorsACummulative, left_on='date', right_on='date', how='left')\n",
    "    .merge(visitorsBCummulative, left_on='date', right_on='date', how='left')\n",
    ")"
   ]
  },
  {
   "cell_type": "code",
   "execution_count": 21,
   "metadata": {},
   "outputs": [],
   "source": [
    "ordersByUsersA = (\n",
    "    orders[orders['group'] == 'A']\n",
    "    .groupby('visitorId', as_index=False)\n",
    "    .agg({'transactionId': pd.Series.nunique})\n",
    ")\n",
    "ordersByUsersA.columns = ['visitorId', 'transactionId']\n",
    "\n",
    "ordersByUsersB = (\n",
    "    orders[orders['group'] == 'B']\n",
    "    .groupby('visitorId', as_index=False)\n",
    "    .agg({'transactionId': pd.Series.nunique})\n",
    ")\n",
    "ordersByUsersB.columns = ['visitorId', 'transactionId']"
   ]
  },
  {
   "cell_type": "markdown",
   "metadata": {},
   "source": [
    "Выдвигаем нулевую гипотезу о том, что статистически значимых различий в конверсии между группами нет. Соответственно, алтернативная гипотеза будет звучать - статистически значимые различия в конверсии между группами есть"
   ]
  },
  {
   "cell_type": "code",
   "execution_count": 22,
   "metadata": {},
   "outputs": [
    {
     "name": "stdout",
     "output_type": "stream",
     "text": [
      "0.008\n",
      "0.138\n"
     ]
    }
   ],
   "source": [
    "sampleA = pd.concat(\n",
    "    [\n",
    "        ordersByUsersA['transactionId'],\n",
    "        pd.Series(\n",
    "            0,\n",
    "            index=np.arange(\n",
    "                data['visitorsPerDateA'].sum() - len(ordersByUsersA['transactionId'])\n",
    "            ),\n",
    "            name='transactionId',\n",
    "        ),\n",
    "    ],\n",
    "    axis=0,\n",
    ")\n",
    "\n",
    "sampleB = pd.concat(\n",
    "    [\n",
    "        ordersByUsersB['transactionId'],\n",
    "        pd.Series(\n",
    "            0,\n",
    "            index=np.arange(\n",
    "                data['visitorsPerDateB'].sum() - len(ordersByUsersB['transactionId'])\n",
    "            ),\n",
    "            name='transactionId',\n",
    "        ),\n",
    "    ],\n",
    "    axis=0,\n",
    ")\n",
    "\n",
    "print(\"{0:.3f}\".format(stats.mannwhitneyu(sampleA, sampleB)[1]))\n",
    "\n",
    "print(\"{0:.3f}\".format(sampleB.mean() / sampleA.mean() - 1))"
   ]
  },
  {
   "cell_type": "markdown",
   "metadata": {},
   "source": [
    "#  Вывод"
   ]
  },
  {
   "cell_type": "markdown",
   "metadata": {},
   "source": [
    "0.008 значительно меньше 0.05, значит, нулевую гипотезу о том, что статистически значимых различий в конверсии между группами нет - отвергаем. Относительное преимущество группы B равно 13.8% "
   ]
  },
  {
   "cell_type": "markdown",
   "metadata": {},
   "source": [
    "### Статистическая  значимость различий в среднем чеке заказа между группами по «сырым» данным"
   ]
  },
  {
   "cell_type": "markdown",
   "metadata": {},
   "source": [
    "Выдвигаем нулевую гипотезу о том, что статистически значимых различий  в среднем чеке заказа между группами нет. Соответственно, алтернативная гипотеза будет звучать - статистически значимые различия  в среднем чеке заказа между группами есть"
   ]
  },
  {
   "cell_type": "code",
   "execution_count": 23,
   "metadata": {},
   "outputs": [
    {
     "name": "stdout",
     "output_type": "stream",
     "text": [
      "0.365\n",
      "0.259\n"
     ]
    }
   ],
   "source": [
    "print('{0:.3f}'.format(stats.mannwhitneyu(orders[orders['group']=='A']['revenue'], orders[orders['group']=='B']['revenue'])[1]))\n",
    "print('{0:.3f}'.format(orders[orders['group']=='B']['revenue'].mean()/orders[orders['group']=='A']['revenue'].mean()-1))"
   ]
  },
  {
   "cell_type": "markdown",
   "metadata": {},
   "source": [
    "# Вывод"
   ]
  },
  {
   "cell_type": "markdown",
   "metadata": {},
   "source": [
    "P-value значительно больше 0.05. Значит, причин отвергать нулевую гипотезу и считать, что в среднем чеке есть различия, нет. Впрочем, средний чек группы B значительно выше среднего чека группы A."
   ]
  },
  {
   "cell_type": "markdown",
   "metadata": {},
   "source": [
    "### Статистическая значимость различий в конверсии между группами по «очищенным» данным"
   ]
  },
  {
   "cell_type": "markdown",
   "metadata": {},
   "source": [
    "Выдвигаем нулевую гипотезу о том, что статистически значимых различий в конверсии между группами нет. Соответственно, алтернативная гипотеза будет звучать - статистически значимые различия в конверсии между группами есть"
   ]
  },
  {
   "cell_type": "code",
   "execution_count": 24,
   "metadata": {},
   "outputs": [
    {
     "name": "stdout",
     "output_type": "stream",
     "text": [
      "0.011\n",
      "0.149\n"
     ]
    }
   ],
   "source": [
    "usersWithManyOrders = pd.concat(\n",
    "    [\n",
    "        ordersByUsersA[ordersByUsersA['transactionId'] > 4]['visitorId'],\n",
    "        ordersByUsersB[ordersByUsersB['transactionId'] > 4]['visitorId'],\n",
    "    ],\n",
    "    axis=0,\n",
    ")\n",
    "usersWithExpensiveOrders = orders[orders['revenue'] > 20000]['visitorId']\n",
    "abnormalUsers = (\n",
    "    pd.concat([usersWithManyOrders, usersWithExpensiveOrders], axis=0)\n",
    "    .drop_duplicates()\n",
    "    .sort_values()\n",
    ")\n",
    "\n",
    "sampleAFiltered = pd.concat(\n",
    "    [\n",
    "        ordersByUsersA[\n",
    "            np.logical_not(ordersByUsersA['visitorId'].isin(abnormalUsers))\n",
    "        ]['transactionId'],\n",
    "        pd.Series(\n",
    "            0,\n",
    "            index=np.arange(\n",
    "                data['visitorsPerDateA'].sum() - len(ordersByUsersA['transactionId'])\n",
    "            ),\n",
    "            name='transactionId',\n",
    "        ),\n",
    "    ],\n",
    "    axis=0,\n",
    ")\n",
    "\n",
    "sampleBFiltered = pd.concat(\n",
    "    [\n",
    "        ordersByUsersB[\n",
    "            np.logical_not(ordersByUsersB['visitorId'].isin(abnormalUsers))\n",
    "        ]['transactionId'],\n",
    "        pd.Series(\n",
    "            0,\n",
    "            index=np.arange(\n",
    "                data['visitorsPerDateB'].sum() - len(ordersByUsersB['transactionId'])\n",
    "            ),\n",
    "            name='transactionId',\n",
    "        ),\n",
    "    ],\n",
    "    axis=0,\n",
    ") \n",
    "\n",
    "print('{0:.3f}'.format(stats.mannwhitneyu(sampleAFiltered, sampleBFiltered)[1]))\n",
    "print('{0:.3f}'.format(sampleBFiltered.mean()/sampleAFiltered.mean()-1))"
   ]
  },
  {
   "cell_type": "markdown",
   "metadata": {},
   "source": [
    "#  Вывод"
   ]
  },
  {
   "cell_type": "markdown",
   "metadata": {},
   "source": [
    "P-value значительно больше 0.05. Значит, можно сказать, что статистически значимых различий в конверсии между группами нет. Конверсия группы B значительно выше конверсии группы A, на 15%."
   ]
  },
  {
   "cell_type": "markdown",
   "metadata": {},
   "source": [
    "### Статистическая значимость различий в среднем чеке заказа между группами по «очищенным» данным"
   ]
  },
  {
   "cell_type": "markdown",
   "metadata": {},
   "source": [
    "Выдвигаем нулевую гипотезу о том, что статистически значимых различий в среднем чеке заказа между группами по «очищенным» данным нет. Соответственно, алтернативная гипотеза будет звучать - статистически значимые различий в среднем чеке заказа между группами по «очищенным» данным есть"
   ]
  },
  {
   "cell_type": "code",
   "execution_count": 25,
   "metadata": {},
   "outputs": [
    {
     "name": "stdout",
     "output_type": "stream",
     "text": [
      "0.433\n",
      "-0.002\n"
     ]
    }
   ],
   "source": [
    "print(\n",
    "    '{0:.3f}'.format(\n",
    "        stats.mannwhitneyu(\n",
    "            orders[\n",
    "                np.logical_and(\n",
    "                    orders['group'] == 'A',\n",
    "                    np.logical_not(orders['visitorId'].isin(abnormalUsers)),\n",
    "                )\n",
    "            ]['revenue'],\n",
    "            orders[\n",
    "                np.logical_and(\n",
    "                    orders['group'] == 'B',\n",
    "                    np.logical_not(orders['visitorId'].isin(abnormalUsers)),\n",
    "                )\n",
    "            ]['revenue'],\n",
    "        )[1]\n",
    "    )\n",
    ")\n",
    "\n",
    "print(\n",
    "    \"{0:.3f}\".format(\n",
    "        orders[\n",
    "            np.logical_and(\n",
    "                orders['group'] == 'B',\n",
    "                np.logical_not(orders['visitorId'].isin(abnormalUsers)),\n",
    "            )\n",
    "        ]['revenue'].mean()\n",
    "        / orders[\n",
    "            np.logical_and(\n",
    "                orders['group'] == 'A',\n",
    "                np.logical_not(orders['visitorId'].isin(abnormalUsers)),\n",
    "            )\n",
    "        ]['revenue'].mean()\n",
    "        - 1\n",
    "    )\n",
    ") "
   ]
  },
  {
   "cell_type": "markdown",
   "metadata": {},
   "source": [
    "# Вывод"
   ]
  },
  {
   "cell_type": "markdown",
   "metadata": {},
   "source": [
    "Гипотезу не можем отвергнуть, а вот средний чек группы B значительно понизился, даже упал относительного среднего чека группы A, но в целом, они могут считаться одинаковыми."
   ]
  },
  {
   "cell_type": "markdown",
   "metadata": {},
   "source": [
    "## Общий вывод"
   ]
  },
  {
   "cell_type": "markdown",
   "metadata": {},
   "source": [
    "Передо мной стояла цель - выделить перспективные\\ приоритетные гипотезы для дальнейших исследований и тестирования, провести тест и посмотреть, принесут ли измненеия значимые результаты.\n",
    "\n",
    "Соответственно, я работал с данными по гипотезам и по целевым группам в рамках тестирования. В процессе анализа были найдены артефакты, были проведены тесты с \"сырыми\" данными и с очищенными, чтобы наглядно были видны результаты.\n",
    "\n",
    "В ходе анализа я нашел: \n",
    " - кумулятивную выручку по групппам - выручка по группам растет в течение всего теста. Однако график выручки группы В резко растет один раз.\n",
    " - кумулятивную конверсию - заметно, что конверсия группы А сразу начинает падать, в то время как группы Б повысилась и держиться на 1 уровне, немного снижаясь. \n",
    "  - кумулятивный средний чек по группам - в целом средний чек по группам растет в течение всего теста, средний чек группы А в начале теста падал, но затем планомерно рос. Чек группы Б постоянно рост, но наблюдается резкий скачок, а потом медленное сниженее, что логично, после резкого всплеска. \n",
    "  - относительное измненеие конверсии и среднего чека между группами - средний чек группы Б был больше группы А на протяжении всего теста, а конверсия группы Б значительно превышает конверсию группы А.\n",
    "  - количество заказов пользователей - 95% пользователей сделали 2 заказа.\n",
    "  - стоимость заказов - 95% пользователей сделали заказ на сумму не превышающую 28000.\n",
    "  В ходе работы с \"сырыми данными\" обнаружил артефакты, и проанализировал те же показателями, но уже с очищенными данными. Проверил ряд гипотез: \n",
    "  - Можно сказать, что статистически значимых различий в конверсии между группами нет. Конверсия группы B значительно выше конверсии группы A, на 15%.\n",
    "  - Мы не можем отвергнуть гипотезу о том, что статистически значимых различий в среднем чеке заказа между группами по «очищенным» данным нет, а вот средний чек группы B значительно понизился, даже упал относительного среднего чека группы A, но в целом, они могут считаться одинаковыми.\n",
    "  \n",
    "Таким образом, резюмируя, можно сказать, что зафиксировать статистически значимых различий не получилось, поэтому считаю, что тест надо остановить."
   ]
  },
  {
   "cell_type": "markdown",
   "metadata": {},
   "source": [
    "<div style=\"border:solid green 2px; padding: 20px\">\n",
    "<b>Комментарии ревьюера</b>\n",
    "\n",
    "Артем, в проекте выполнена основная часть работы, ты молодец!\n",
    "    \n",
    "С расчетами проблем не возникло, это отлично. Но для аналитика также важно, как он визуализирует полученные результаты для представления их коллегам или руководству, как он формулирует гипотезы и как их проверяет, как делает выводы. Поэтому проект еще нужно доработать:\n",
    "- поработать с визуализацией и оформлением работы;\n",
    "- добавить общий вывод по предобработке данных;\n",
    "- обязательно добавить формулировку нулевой и альтернативной гипотез, которые ты проверяешь;\n",
    "- подготовить общий вывод по работе;\n",
    "- поработать с желтыми комментариями.    \n",
    "    \n",
    "Так что жду твою работу на повторное ревью. Буду рада вопросам, если они появятся :)"
   ]
  },
  {
   "cell_type": "markdown",
   "metadata": {},
   "source": [
    "<div style=\"border:solid green 2px; padding: 20px\">\n",
    "<b>Комментарии ревьюера v2</b>\n",
    "\n",
    "Артем, работа выполнена на хорошем уровне, так держать!\n",
    "\n",
    "Ты молодец, что сопровождаешь все вычисления своими комментариями и пояснениями, сразу видно, что и зачем ты делаешь. Проект было очень приятно проверять :)\n",
    "\n",
    "Хотела отметить, что ты очень грамотно используешь методы pandas для работы с датафреймами, с проверкой и исследованием данных тоже все окей.\n",
    "\n",
    "У тебя хорошо получается анализировать, развивайся в этом направлении. Для аналитика важно, какие выводы и заключения он делает по проведённым расчетам и тестам.\n",
    "\n",
    "В этой работе у нас несколько проверок гипотез, так что можно было обернуть коды в функцию. Написание и использование функций очень удобно - с ними кода меньше, проверять работу легче, функции удобно тестировать. Этот навык точно пригодится тебе в следующих спринтах :)\n",
    "\n",
    "По поводу графиков с первого раза все отлично, молодец! Могу еще посоветовать посмотреть библиотеку seaborn, там есть достаточно интересные варианты визуализации :) Вот этот ресурс https://python-graph-gallery.com, там много готовых решений. \n",
    "\n",
    "Успехов в выполнении следующих заданий!"
   ]
  }
 ],
 "metadata": {
  "ExecuteTimeLog": [
   {
    "duration": 382,
    "start_time": "2021-12-20T13:23:59.807Z"
   },
   {
    "duration": 1220,
    "start_time": "2021-12-20T13:24:10.226Z"
   },
   {
    "duration": 41,
    "start_time": "2021-12-20T13:24:11.449Z"
   },
   {
    "duration": 109,
    "start_time": "2021-12-20T13:24:20.080Z"
   },
   {
    "duration": 25,
    "start_time": "2021-12-20T13:24:23.135Z"
   },
   {
    "duration": 8201,
    "start_time": "2021-12-20T13:24:52.508Z"
   },
   {
    "duration": 27,
    "start_time": "2021-12-20T13:25:25.833Z"
   },
   {
    "duration": 362,
    "start_time": "2021-12-20T13:28:39.180Z"
   },
   {
    "duration": 25,
    "start_time": "2021-12-20T13:28:46.444Z"
   },
   {
    "duration": 27,
    "start_time": "2021-12-20T13:33:07.953Z"
   },
   {
    "duration": 940,
    "start_time": "2021-12-20T13:34:10.162Z"
   },
   {
    "duration": 8,
    "start_time": "2021-12-20T13:34:21.258Z"
   },
   {
    "duration": 15,
    "start_time": "2021-12-20T13:35:08.987Z"
   },
   {
    "duration": 16,
    "start_time": "2021-12-20T13:40:59.995Z"
   },
   {
    "duration": 15,
    "start_time": "2021-12-20T13:42:14.371Z"
   },
   {
    "duration": 18,
    "start_time": "2021-12-20T13:43:08.052Z"
   },
   {
    "duration": 20,
    "start_time": "2021-12-20T13:43:26.188Z"
   },
   {
    "duration": 17,
    "start_time": "2021-12-20T13:45:29.254Z"
   },
   {
    "duration": 96,
    "start_time": "2021-12-20T14:19:34.007Z"
   },
   {
    "duration": 1532,
    "start_time": "2021-12-20T14:23:52.404Z"
   },
   {
    "duration": 60,
    "start_time": "2021-12-20T14:24:04.610Z"
   },
   {
    "duration": 2428,
    "start_time": "2021-12-20T14:24:40.875Z"
   },
   {
    "duration": 1522,
    "start_time": "2021-12-20T14:25:26.124Z"
   },
   {
    "duration": 77,
    "start_time": "2021-12-20T14:25:52.813Z"
   },
   {
    "duration": 440,
    "start_time": "2021-12-20T14:36:42.026Z"
   },
   {
    "duration": 13077,
    "start_time": "2021-12-20T14:37:24.225Z"
   },
   {
    "duration": -21,
    "start_time": "2021-12-20T14:38:47.198Z"
   },
   {
    "duration": 12875,
    "start_time": "2021-12-20T14:39:34.371Z"
   },
   {
    "duration": 13361,
    "start_time": "2021-12-20T15:32:53.584Z"
   },
   {
    "duration": 13158,
    "start_time": "2021-12-20T15:33:24.783Z"
   },
   {
    "duration": 672,
    "start_time": "2021-12-20T15:35:11.474Z"
   },
   {
    "duration": 655,
    "start_time": "2021-12-20T15:36:18.626Z"
   },
   {
    "duration": 706,
    "start_time": "2021-12-20T15:43:00.618Z"
   },
   {
    "duration": 733,
    "start_time": "2021-12-20T15:46:25.429Z"
   },
   {
    "duration": 1693,
    "start_time": "2021-12-20T15:46:40.811Z"
   },
   {
    "duration": 28,
    "start_time": "2021-12-20T15:46:42.506Z"
   },
   {
    "duration": 42,
    "start_time": "2021-12-20T15:46:42.537Z"
   },
   {
    "duration": 33,
    "start_time": "2021-12-20T15:46:42.581Z"
   },
   {
    "duration": 144,
    "start_time": "2021-12-20T15:46:42.616Z"
   },
   {
    "duration": 760,
    "start_time": "2021-12-20T15:46:42.763Z"
   },
   {
    "duration": 546,
    "start_time": "2021-12-20T15:46:43.526Z"
   },
   {
    "duration": 465,
    "start_time": "2021-12-20T15:51:09.189Z"
   },
   {
    "duration": 424,
    "start_time": "2021-12-20T17:32:31.140Z"
   },
   {
    "duration": 333,
    "start_time": "2021-12-20T17:35:35.719Z"
   },
   {
    "duration": 281,
    "start_time": "2021-12-20T17:35:45.567Z"
   },
   {
    "duration": 320,
    "start_time": "2021-12-20T17:35:52.288Z"
   },
   {
    "duration": 328,
    "start_time": "2021-12-20T17:38:30.099Z"
   },
   {
    "duration": 591,
    "start_time": "2021-12-20T17:38:47.691Z"
   },
   {
    "duration": 496,
    "start_time": "2021-12-20T17:43:00.137Z"
   },
   {
    "duration": 445,
    "start_time": "2021-12-20T17:45:54.723Z"
   },
   {
    "duration": 2178,
    "start_time": "2021-12-20T17:46:31.892Z"
   },
   {
    "duration": 372,
    "start_time": "2021-12-20T17:46:49.525Z"
   },
   {
    "duration": 186,
    "start_time": "2021-12-20T17:47:49.925Z"
   },
   {
    "duration": 8432,
    "start_time": "2021-12-20T17:48:20.869Z"
   },
   {
    "duration": 569,
    "start_time": "2021-12-20T17:48:39.383Z"
   },
   {
    "duration": 7,
    "start_time": "2021-12-20T17:49:46.415Z"
   },
   {
    "duration": 475,
    "start_time": "2021-12-20T17:52:00.059Z"
   },
   {
    "duration": 6,
    "start_time": "2021-12-20T17:53:13.412Z"
   },
   {
    "duration": 56,
    "start_time": "2021-12-20T17:54:05.605Z"
   },
   {
    "duration": 7,
    "start_time": "2021-12-20T17:54:18.596Z"
   },
   {
    "duration": 329,
    "start_time": "2021-12-20T17:54:52.217Z"
   },
   {
    "duration": 7,
    "start_time": "2021-12-20T17:54:55.453Z"
   },
   {
    "duration": 9057,
    "start_time": "2021-12-20T18:12:01.128Z"
   },
   {
    "duration": 757,
    "start_time": "2021-12-20T18:13:24.738Z"
   },
   {
    "duration": 1222,
    "start_time": "2021-12-20T18:14:36.963Z"
   },
   {
    "duration": 10232,
    "start_time": "2021-12-20T18:15:00.154Z"
   },
   {
    "duration": 1616,
    "start_time": "2021-12-20T18:18:03.000Z"
   },
   {
    "duration": 35,
    "start_time": "2021-12-20T18:18:04.620Z"
   },
   {
    "duration": 21,
    "start_time": "2021-12-20T18:18:04.661Z"
   },
   {
    "duration": 19,
    "start_time": "2021-12-20T18:18:04.685Z"
   },
   {
    "duration": 246,
    "start_time": "2021-12-20T18:18:04.724Z"
   },
   {
    "duration": 680,
    "start_time": "2021-12-20T18:18:04.973Z"
   },
   {
    "duration": 362,
    "start_time": "2021-12-20T18:18:05.656Z"
   },
   {
    "duration": 349,
    "start_time": "2021-12-20T18:18:06.024Z"
   },
   {
    "duration": 532,
    "start_time": "2021-12-20T18:18:06.376Z"
   },
   {
    "duration": 386,
    "start_time": "2021-12-20T18:18:06.910Z"
   },
   {
    "duration": 608,
    "start_time": "2021-12-20T18:18:07.298Z"
   },
   {
    "duration": 644,
    "start_time": "2021-12-20T18:18:07.909Z"
   },
   {
    "duration": 6,
    "start_time": "2021-12-20T18:18:08.556Z"
   },
   {
    "duration": 483,
    "start_time": "2021-12-20T18:18:08.564Z"
   },
   {
    "duration": 5,
    "start_time": "2021-12-20T18:18:09.050Z"
   },
   {
    "duration": 9101,
    "start_time": "2021-12-20T18:18:09.058Z"
   },
   {
    "duration": 11398,
    "start_time": "2021-12-20T18:21:25.325Z"
   },
   {
    "duration": 8345,
    "start_time": "2021-12-20T18:29:37.358Z"
   },
   {
    "duration": 10344,
    "start_time": "2021-12-20T18:37:03.564Z"
   },
   {
    "duration": 397,
    "start_time": "2021-12-20T18:41:30.288Z"
   },
   {
    "duration": 328,
    "start_time": "2021-12-20T18:41:44.497Z"
   },
   {
    "duration": 353,
    "start_time": "2021-12-20T18:42:12.897Z"
   },
   {
    "duration": 338,
    "start_time": "2021-12-20T18:42:17.416Z"
   },
   {
    "duration": 346,
    "start_time": "2021-12-20T18:42:29.538Z"
   },
   {
    "duration": 333,
    "start_time": "2021-12-20T18:42:35.671Z"
   },
   {
    "duration": 1349,
    "start_time": "2021-12-20T18:42:41.952Z"
   },
   {
    "duration": 36,
    "start_time": "2021-12-20T18:42:43.304Z"
   },
   {
    "duration": 19,
    "start_time": "2021-12-20T18:42:43.347Z"
   },
   {
    "duration": 17,
    "start_time": "2021-12-20T18:42:43.369Z"
   },
   {
    "duration": 104,
    "start_time": "2021-12-20T18:42:43.388Z"
   },
   {
    "duration": 575,
    "start_time": "2021-12-20T18:42:43.494Z"
   },
   {
    "duration": 351,
    "start_time": "2021-12-20T18:42:44.072Z"
   },
   {
    "duration": 330,
    "start_time": "2021-12-20T18:42:44.429Z"
   },
   {
    "duration": 415,
    "start_time": "2021-12-20T18:42:44.761Z"
   },
   {
    "duration": 368,
    "start_time": "2021-12-20T18:42:45.178Z"
   },
   {
    "duration": 425,
    "start_time": "2021-12-20T18:42:45.549Z"
   },
   {
    "duration": 550,
    "start_time": "2021-12-20T18:42:45.977Z"
   },
   {
    "duration": 7,
    "start_time": "2021-12-20T18:42:46.530Z"
   },
   {
    "duration": 408,
    "start_time": "2021-12-20T18:42:46.541Z"
   },
   {
    "duration": 6,
    "start_time": "2021-12-20T18:42:46.951Z"
   },
   {
    "duration": 11636,
    "start_time": "2021-12-20T18:42:46.960Z"
   },
   {
    "duration": 346,
    "start_time": "2021-12-20T18:43:05.836Z"
   },
   {
    "duration": 1416,
    "start_time": "2021-12-20T18:44:11.485Z"
   },
   {
    "duration": 1422,
    "start_time": "2021-12-20T18:47:54.944Z"
   },
   {
    "duration": 23,
    "start_time": "2021-12-20T18:47:56.368Z"
   },
   {
    "duration": 18,
    "start_time": "2021-12-20T18:47:56.394Z"
   },
   {
    "duration": 22,
    "start_time": "2021-12-20T18:47:56.425Z"
   },
   {
    "duration": 80,
    "start_time": "2021-12-20T18:47:56.450Z"
   },
   {
    "duration": 602,
    "start_time": "2021-12-20T18:47:56.533Z"
   },
   {
    "duration": 355,
    "start_time": "2021-12-20T18:47:57.138Z"
   },
   {
    "duration": 356,
    "start_time": "2021-12-20T18:47:57.497Z"
   },
   {
    "duration": 401,
    "start_time": "2021-12-20T18:47:57.855Z"
   },
   {
    "duration": 368,
    "start_time": "2021-12-20T18:47:58.259Z"
   },
   {
    "duration": 462,
    "start_time": "2021-12-20T18:47:58.630Z"
   },
   {
    "duration": 631,
    "start_time": "2021-12-20T18:47:59.095Z"
   },
   {
    "duration": 9,
    "start_time": "2021-12-20T18:47:59.729Z"
   },
   {
    "duration": 422,
    "start_time": "2021-12-20T18:47:59.741Z"
   },
   {
    "duration": 8,
    "start_time": "2021-12-20T18:48:00.166Z"
   },
   {
    "duration": 9957,
    "start_time": "2021-12-20T18:48:00.177Z"
   },
   {
    "duration": 4,
    "start_time": "2021-12-20T18:48:19.036Z"
   },
   {
    "duration": 20,
    "start_time": "2021-12-20T18:48:20.258Z"
   },
   {
    "duration": 17,
    "start_time": "2021-12-20T18:48:22.858Z"
   },
   {
    "duration": 18,
    "start_time": "2021-12-20T18:48:25.403Z"
   },
   {
    "duration": 81,
    "start_time": "2021-12-20T18:48:29.322Z"
   },
   {
    "duration": 656,
    "start_time": "2021-12-20T18:48:32.899Z"
   },
   {
    "duration": 570,
    "start_time": "2021-12-20T18:48:46.229Z"
   },
   {
    "duration": 401,
    "start_time": "2021-12-20T18:48:49.483Z"
   },
   {
    "duration": 404,
    "start_time": "2021-12-20T18:48:52.219Z"
   },
   {
    "duration": 460,
    "start_time": "2021-12-20T18:48:55.131Z"
   },
   {
    "duration": 392,
    "start_time": "2021-12-20T18:48:57.395Z"
   },
   {
    "duration": 476,
    "start_time": "2021-12-20T18:48:59.595Z"
   },
   {
    "duration": 596,
    "start_time": "2021-12-20T18:49:01.659Z"
   },
   {
    "duration": 6,
    "start_time": "2021-12-20T18:49:04.491Z"
   },
   {
    "duration": 433,
    "start_time": "2021-12-20T18:49:06.114Z"
   },
   {
    "duration": 12,
    "start_time": "2021-12-20T18:49:08.428Z"
   },
   {
    "duration": 9512,
    "start_time": "2021-12-20T18:49:12.908Z"
   },
   {
    "duration": 400,
    "start_time": "2021-12-20T18:49:29.440Z"
   },
   {
    "duration": 9640,
    "start_time": "2021-12-20T18:50:59.437Z"
   },
   {
    "duration": 1566,
    "start_time": "2021-12-21T13:28:04.996Z"
   },
   {
    "duration": 23,
    "start_time": "2021-12-21T13:28:06.570Z"
   },
   {
    "duration": 36,
    "start_time": "2021-12-21T13:28:06.597Z"
   },
   {
    "duration": 17,
    "start_time": "2021-12-21T13:28:06.636Z"
   },
   {
    "duration": 81,
    "start_time": "2021-12-21T13:28:06.656Z"
   },
   {
    "duration": 573,
    "start_time": "2021-12-21T13:28:06.739Z"
   },
   {
    "duration": 361,
    "start_time": "2021-12-21T13:28:07.316Z"
   },
   {
    "duration": 326,
    "start_time": "2021-12-21T13:28:07.680Z"
   },
   {
    "duration": 519,
    "start_time": "2021-12-21T13:28:08.010Z"
   },
   {
    "duration": 369,
    "start_time": "2021-12-21T13:28:08.532Z"
   },
   {
    "duration": 468,
    "start_time": "2021-12-21T13:28:08.904Z"
   },
   {
    "duration": 625,
    "start_time": "2021-12-21T13:28:09.376Z"
   },
   {
    "duration": 19,
    "start_time": "2021-12-21T13:28:10.004Z"
   },
   {
    "duration": 559,
    "start_time": "2021-12-21T13:28:10.026Z"
   },
   {
    "duration": 7,
    "start_time": "2021-12-21T13:28:10.588Z"
   },
   {
    "duration": 9582,
    "start_time": "2021-12-21T13:28:10.599Z"
   },
   {
    "duration": 487,
    "start_time": "2021-12-21T13:30:04.922Z"
   },
   {
    "duration": 8832,
    "start_time": "2021-12-21T13:36:23.371Z"
   },
   {
    "duration": 8187,
    "start_time": "2021-12-21T13:37:13.889Z"
   },
   {
    "duration": 10988,
    "start_time": "2021-12-21T13:37:46.769Z"
   },
   {
    "duration": 9133,
    "start_time": "2021-12-21T13:40:57.524Z"
   },
   {
    "duration": 8982,
    "start_time": "2021-12-21T13:41:21.029Z"
   },
   {
    "duration": 833,
    "start_time": "2021-12-21T13:41:55.662Z"
   },
   {
    "duration": 14,
    "start_time": "2021-12-21T13:51:30.464Z"
   },
   {
    "duration": 8176,
    "start_time": "2021-12-21T13:58:30.799Z"
   },
   {
    "duration": 27,
    "start_time": "2021-12-21T13:59:36.802Z"
   },
   {
    "duration": 8842,
    "start_time": "2021-12-21T14:08:28.043Z"
   },
   {
    "duration": 24,
    "start_time": "2021-12-21T14:08:55.269Z"
   },
   {
    "duration": 106,
    "start_time": "2021-12-21T14:26:32.375Z"
   },
   {
    "duration": 109,
    "start_time": "2021-12-21T15:36:48.381Z"
   },
   {
    "duration": 130,
    "start_time": "2021-12-21T15:39:23.640Z"
   },
   {
    "duration": 1535,
    "start_time": "2021-12-22T02:31:15.150Z"
   },
   {
    "duration": 27,
    "start_time": "2021-12-22T02:31:16.688Z"
   },
   {
    "duration": 24,
    "start_time": "2021-12-22T02:31:16.719Z"
   },
   {
    "duration": 34,
    "start_time": "2021-12-22T02:31:16.746Z"
   },
   {
    "duration": 85,
    "start_time": "2021-12-22T02:31:16.782Z"
   },
   {
    "duration": 637,
    "start_time": "2021-12-22T02:31:16.870Z"
   },
   {
    "duration": 361,
    "start_time": "2021-12-22T02:31:17.510Z"
   },
   {
    "duration": 350,
    "start_time": "2021-12-22T02:31:17.874Z"
   },
   {
    "duration": 476,
    "start_time": "2021-12-22T02:31:18.229Z"
   },
   {
    "duration": 369,
    "start_time": "2021-12-22T02:31:18.708Z"
   },
   {
    "duration": 456,
    "start_time": "2021-12-22T02:31:19.080Z"
   },
   {
    "duration": 631,
    "start_time": "2021-12-22T02:31:19.539Z"
   },
   {
    "duration": 7,
    "start_time": "2021-12-22T02:31:20.173Z"
   },
   {
    "duration": 411,
    "start_time": "2021-12-22T02:31:20.183Z"
   },
   {
    "duration": 5,
    "start_time": "2021-12-22T02:31:20.597Z"
   },
   {
    "duration": 742,
    "start_time": "2021-12-22T02:31:20.605Z"
   },
   {
    "duration": 25,
    "start_time": "2021-12-22T02:31:21.350Z"
   },
   {
    "duration": 29,
    "start_time": "2021-12-22T02:31:21.377Z"
   },
   {
    "duration": 20,
    "start_time": "2021-12-22T02:31:21.408Z"
   },
   {
    "duration": 14,
    "start_time": "2021-12-22T02:38:02.565Z"
   },
   {
    "duration": 5,
    "start_time": "2021-12-22T02:40:22.557Z"
   },
   {
    "duration": 1148,
    "start_time": "2021-12-22T13:35:06.915Z"
   },
   {
    "duration": 21,
    "start_time": "2021-12-22T13:35:08.064Z"
   },
   {
    "duration": 15,
    "start_time": "2021-12-22T13:35:08.087Z"
   },
   {
    "duration": 12,
    "start_time": "2021-12-22T13:35:08.104Z"
   },
   {
    "duration": 76,
    "start_time": "2021-12-22T13:35:08.117Z"
   },
   {
    "duration": 298,
    "start_time": "2021-12-22T13:35:08.195Z"
   },
   {
    "duration": 206,
    "start_time": "2021-12-22T13:35:08.495Z"
   },
   {
    "duration": 199,
    "start_time": "2021-12-22T13:35:08.704Z"
   },
   {
    "duration": 312,
    "start_time": "2021-12-22T13:35:08.905Z"
   },
   {
    "duration": 212,
    "start_time": "2021-12-22T13:35:09.219Z"
   },
   {
    "duration": 321,
    "start_time": "2021-12-22T13:35:09.433Z"
   },
   {
    "duration": 377,
    "start_time": "2021-12-22T13:35:09.756Z"
   },
   {
    "duration": 5,
    "start_time": "2021-12-22T13:35:10.140Z"
   },
   {
    "duration": 285,
    "start_time": "2021-12-22T13:35:10.146Z"
   },
   {
    "duration": 10,
    "start_time": "2021-12-22T13:35:10.433Z"
   },
   {
    "duration": 420,
    "start_time": "2021-12-22T13:35:10.444Z"
   },
   {
    "duration": 9,
    "start_time": "2021-12-22T13:35:10.866Z"
   },
   {
    "duration": 22,
    "start_time": "2021-12-22T13:35:10.877Z"
   },
   {
    "duration": 13,
    "start_time": "2021-12-22T13:35:10.900Z"
   },
   {
    "duration": 3,
    "start_time": "2021-12-22T13:42:53.787Z"
   },
   {
    "duration": 20,
    "start_time": "2021-12-22T13:42:54.721Z"
   },
   {
    "duration": 25,
    "start_time": "2021-12-22T13:42:56.859Z"
   },
   {
    "duration": 4,
    "start_time": "2021-12-22T13:43:31.963Z"
   },
   {
    "duration": 20,
    "start_time": "2021-12-22T13:43:33.131Z"
   },
   {
    "duration": 23,
    "start_time": "2021-12-22T13:43:35.923Z"
   },
   {
    "duration": 24,
    "start_time": "2021-12-22T13:43:40.140Z"
   },
   {
    "duration": 3,
    "start_time": "2021-12-22T13:43:43.098Z"
   },
   {
    "duration": 19,
    "start_time": "2021-12-22T13:43:43.746Z"
   },
   {
    "duration": 23,
    "start_time": "2021-12-22T13:43:46.027Z"
   },
   {
    "duration": 1019,
    "start_time": "2021-12-22T13:43:52.378Z"
   },
   {
    "duration": 22,
    "start_time": "2021-12-22T13:43:53.399Z"
   },
   {
    "duration": 19,
    "start_time": "2021-12-22T13:43:53.427Z"
   },
   {
    "duration": 11,
    "start_time": "2021-12-22T13:43:53.448Z"
   },
   {
    "duration": 86,
    "start_time": "2021-12-22T13:43:53.461Z"
   },
   {
    "duration": 451,
    "start_time": "2021-12-22T13:43:53.549Z"
   },
   {
    "duration": 292,
    "start_time": "2021-12-22T13:43:54.004Z"
   },
   {
    "duration": 183,
    "start_time": "2021-12-22T13:43:54.298Z"
   },
   {
    "duration": 261,
    "start_time": "2021-12-22T13:43:54.483Z"
   },
   {
    "duration": 198,
    "start_time": "2021-12-22T13:43:54.745Z"
   },
   {
    "duration": 339,
    "start_time": "2021-12-22T13:43:54.944Z"
   },
   {
    "duration": 377,
    "start_time": "2021-12-22T13:43:55.284Z"
   },
   {
    "duration": 4,
    "start_time": "2021-12-22T13:43:55.663Z"
   },
   {
    "duration": 286,
    "start_time": "2021-12-22T13:43:55.668Z"
   },
   {
    "duration": 4,
    "start_time": "2021-12-22T13:43:55.955Z"
   },
   {
    "duration": 400,
    "start_time": "2021-12-22T13:43:55.961Z"
   },
   {
    "duration": 11,
    "start_time": "2021-12-22T13:43:56.362Z"
   },
   {
    "duration": 18,
    "start_time": "2021-12-22T13:43:56.375Z"
   },
   {
    "duration": 11,
    "start_time": "2021-12-22T13:43:56.395Z"
   },
   {
    "duration": 15,
    "start_time": "2021-12-22T13:45:29.154Z"
   },
   {
    "duration": 3,
    "start_time": "2021-12-22T13:45:39.346Z"
   },
   {
    "duration": 19,
    "start_time": "2021-12-22T13:45:40.009Z"
   },
   {
    "duration": 11,
    "start_time": "2021-12-22T13:45:41.602Z"
   },
   {
    "duration": 12,
    "start_time": "2021-12-22T13:45:48.185Z"
   },
   {
    "duration": 12,
    "start_time": "2021-12-22T13:46:18.667Z"
   },
   {
    "duration": 266,
    "start_time": "2021-12-22T14:01:15.099Z"
   },
   {
    "duration": 208,
    "start_time": "2021-12-22T14:03:34.766Z"
   },
   {
    "duration": 209,
    "start_time": "2021-12-22T14:03:56.093Z"
   },
   {
    "duration": 338,
    "start_time": "2021-12-22T14:05:56.104Z"
   },
   {
    "duration": 254,
    "start_time": "2021-12-22T14:06:03.248Z"
   },
   {
    "duration": 258,
    "start_time": "2021-12-22T14:06:11.064Z"
   },
   {
    "duration": 237,
    "start_time": "2021-12-22T14:11:21.878Z"
   },
   {
    "duration": 361,
    "start_time": "2021-12-22T14:13:25.944Z"
   },
   {
    "duration": 320,
    "start_time": "2021-12-22T14:13:41.488Z"
   },
   {
    "duration": 240,
    "start_time": "2021-12-22T14:16:18.587Z"
   },
   {
    "duration": 353,
    "start_time": "2021-12-22T14:17:57.790Z"
   },
   {
    "duration": 388,
    "start_time": "2021-12-22T14:21:04.777Z"
   },
   {
    "duration": 505,
    "start_time": "2021-12-22T14:21:23.137Z"
   },
   {
    "duration": 450,
    "start_time": "2021-12-22T14:21:27.097Z"
   },
   {
    "duration": 275,
    "start_time": "2021-12-22T14:22:56.203Z"
   },
   {
    "duration": 1365,
    "start_time": "2021-12-23T02:33:41.058Z"
   },
   {
    "duration": 27,
    "start_time": "2021-12-23T02:33:42.425Z"
   },
   {
    "duration": 23,
    "start_time": "2021-12-23T02:33:42.456Z"
   },
   {
    "duration": 21,
    "start_time": "2021-12-23T02:33:42.482Z"
   },
   {
    "duration": 117,
    "start_time": "2021-12-23T02:33:42.505Z"
   },
   {
    "duration": 583,
    "start_time": "2021-12-23T02:33:42.624Z"
   },
   {
    "duration": 493,
    "start_time": "2021-12-23T02:33:43.210Z"
   },
   {
    "duration": 440,
    "start_time": "2021-12-23T02:33:43.707Z"
   },
   {
    "duration": 562,
    "start_time": "2021-12-23T02:33:44.151Z"
   },
   {
    "duration": 450,
    "start_time": "2021-12-23T02:33:44.716Z"
   },
   {
    "duration": 533,
    "start_time": "2021-12-23T02:33:45.168Z"
   },
   {
    "duration": 550,
    "start_time": "2021-12-23T02:33:45.703Z"
   },
   {
    "duration": 7,
    "start_time": "2021-12-23T02:33:46.262Z"
   },
   {
    "duration": 402,
    "start_time": "2021-12-23T02:33:46.272Z"
   },
   {
    "duration": 6,
    "start_time": "2021-12-23T02:33:46.676Z"
   },
   {
    "duration": 685,
    "start_time": "2021-12-23T02:33:46.685Z"
   },
   {
    "duration": 27,
    "start_time": "2021-12-23T02:33:47.373Z"
   },
   {
    "duration": 210,
    "start_time": "2021-12-23T02:33:47.402Z"
   },
   {
    "duration": 238,
    "start_time": "2021-12-23T02:33:47.615Z"
   },
   {
    "duration": 40,
    "start_time": "2021-12-23T02:33:47.855Z"
   },
   {
    "duration": 231,
    "start_time": "2021-12-23T02:33:47.898Z"
   },
   {
    "duration": 14,
    "start_time": "2021-12-23T02:33:48.131Z"
   },
   {
    "duration": 14,
    "start_time": "2021-12-23T02:33:48.162Z"
   },
   {
    "duration": 26,
    "start_time": "2021-12-23T02:33:48.178Z"
   },
   {
    "duration": 20,
    "start_time": "2021-12-23T02:33:48.206Z"
   },
   {
    "duration": 1416,
    "start_time": "2021-12-23T13:24:56.399Z"
   },
   {
    "duration": 26,
    "start_time": "2021-12-23T13:24:57.818Z"
   },
   {
    "duration": 24,
    "start_time": "2021-12-23T13:24:57.851Z"
   },
   {
    "duration": 18,
    "start_time": "2021-12-23T13:24:57.878Z"
   },
   {
    "duration": 93,
    "start_time": "2021-12-23T13:24:57.899Z"
   },
   {
    "duration": 555,
    "start_time": "2021-12-23T13:24:57.994Z"
   },
   {
    "duration": 434,
    "start_time": "2021-12-23T13:24:58.552Z"
   },
   {
    "duration": 420,
    "start_time": "2021-12-23T13:24:58.989Z"
   },
   {
    "duration": 696,
    "start_time": "2021-12-23T13:24:59.412Z"
   },
   {
    "duration": 481,
    "start_time": "2021-12-23T13:25:00.110Z"
   },
   {
    "duration": 589,
    "start_time": "2021-12-23T13:25:00.594Z"
   },
   {
    "duration": 606,
    "start_time": "2021-12-23T13:25:01.186Z"
   },
   {
    "duration": 6,
    "start_time": "2021-12-23T13:25:01.794Z"
   },
   {
    "duration": 407,
    "start_time": "2021-12-23T13:25:01.803Z"
   },
   {
    "duration": 6,
    "start_time": "2021-12-23T13:25:02.212Z"
   },
   {
    "duration": 783,
    "start_time": "2021-12-23T13:25:02.220Z"
   },
   {
    "duration": 28,
    "start_time": "2021-12-23T13:25:03.006Z"
   },
   {
    "duration": 235,
    "start_time": "2021-12-23T13:25:03.036Z"
   },
   {
    "duration": 291,
    "start_time": "2021-12-23T13:25:03.274Z"
   },
   {
    "duration": 60,
    "start_time": "2021-12-23T13:25:03.570Z"
   },
   {
    "duration": 383,
    "start_time": "2021-12-23T13:25:03.633Z"
   },
   {
    "duration": 29,
    "start_time": "2021-12-23T13:25:04.027Z"
   },
   {
    "duration": 35,
    "start_time": "2021-12-23T13:25:04.060Z"
   },
   {
    "duration": 34,
    "start_time": "2021-12-23T13:25:04.098Z"
   },
   {
    "duration": 36,
    "start_time": "2021-12-23T13:25:04.135Z"
   },
   {
    "duration": 9348,
    "start_time": "2021-12-23T13:27:23.805Z"
   },
   {
    "duration": 626,
    "start_time": "2021-12-23T13:27:41.670Z"
   },
   {
    "duration": 102,
    "start_time": "2021-12-23T13:27:58.734Z"
   },
   {
    "duration": 101,
    "start_time": "2021-12-23T13:28:41.678Z"
   },
   {
    "duration": 1073,
    "start_time": "2021-12-23T14:27:22.714Z"
   },
   {
    "duration": 26,
    "start_time": "2021-12-23T14:27:23.790Z"
   },
   {
    "duration": 17,
    "start_time": "2021-12-23T14:27:23.819Z"
   },
   {
    "duration": 14,
    "start_time": "2021-12-23T14:27:23.838Z"
   },
   {
    "duration": 92,
    "start_time": "2021-12-23T14:27:23.853Z"
   },
   {
    "duration": 354,
    "start_time": "2021-12-23T14:27:23.947Z"
   },
   {
    "duration": 295,
    "start_time": "2021-12-23T14:27:24.306Z"
   },
   {
    "duration": 280,
    "start_time": "2021-12-23T14:27:24.607Z"
   },
   {
    "duration": 417,
    "start_time": "2021-12-23T14:27:24.889Z"
   },
   {
    "duration": 287,
    "start_time": "2021-12-23T14:27:25.309Z"
   },
   {
    "duration": 412,
    "start_time": "2021-12-23T14:27:25.598Z"
   },
   {
    "duration": 444,
    "start_time": "2021-12-23T14:27:26.013Z"
   },
   {
    "duration": 4,
    "start_time": "2021-12-23T14:27:26.459Z"
   },
   {
    "duration": 316,
    "start_time": "2021-12-23T14:27:26.465Z"
   },
   {
    "duration": 4,
    "start_time": "2021-12-23T14:27:26.783Z"
   },
   {
    "duration": 458,
    "start_time": "2021-12-23T14:27:26.789Z"
   },
   {
    "duration": 19,
    "start_time": "2021-12-23T14:27:27.248Z"
   },
   {
    "duration": 128,
    "start_time": "2021-12-23T14:27:27.269Z"
   },
   {
    "duration": 150,
    "start_time": "2021-12-23T14:27:27.398Z"
   },
   {
    "duration": 23,
    "start_time": "2021-12-23T14:27:27.550Z"
   },
   {
    "duration": 121,
    "start_time": "2021-12-23T14:27:27.574Z"
   },
   {
    "duration": 15,
    "start_time": "2021-12-23T14:27:27.697Z"
   },
   {
    "duration": 12,
    "start_time": "2021-12-23T14:27:27.716Z"
   },
   {
    "duration": 17,
    "start_time": "2021-12-23T14:27:27.730Z"
   },
   {
    "duration": 12,
    "start_time": "2021-12-23T14:27:27.749Z"
   },
   {
    "duration": 11,
    "start_time": "2021-12-23T14:31:56.585Z"
   },
   {
    "duration": 5,
    "start_time": "2021-12-23T14:32:02.661Z"
   }
  ],
  "kernelspec": {
   "display_name": "Python 3",
   "language": "python",
   "name": "python3"
  },
  "language_info": {
   "codemirror_mode": {
    "name": "ipython",
    "version": 3
   },
   "file_extension": ".py",
   "mimetype": "text/x-python",
   "name": "python",
   "nbconvert_exporter": "python",
   "pygments_lexer": "ipython3",
   "version": "3.7.8"
  },
  "toc": {
   "base_numbering": 1,
   "nav_menu": {
    "height": "286px",
    "width": "657px"
   },
   "number_sections": true,
   "sideBar": true,
   "skip_h1_title": true,
   "title_cell": "Table of Contents",
   "title_sidebar": "Contents",
   "toc_cell": false,
   "toc_position": {
    "height": "calc(100% - 180px)",
    "left": "10px",
    "top": "150px",
    "width": "366.391px"
   },
   "toc_section_display": true,
   "toc_window_display": true
  }
 },
 "nbformat": 4,
 "nbformat_minor": 2
}
